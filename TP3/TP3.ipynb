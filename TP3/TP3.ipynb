{
 "cells": [
  {
   "cell_type": "markdown",
   "id": "28da7963",
   "metadata": {},
   "source": [
    "Trabajo Práctico N° 3"
   ]
  },
  {
   "cell_type": "markdown",
   "id": "c06e1f36",
   "metadata": {},
   "source": [
    "PUNTO 2\n",
    "\n",
    "**Cree su primer celda (o bloque) dentro de inserte y ejecute la siguiente línea:\n",
    "print(“Es el primer bloque del proyecto”)**"
   ]
  },
  {
   "cell_type": "code",
   "execution_count": 1,
   "id": "526609fd",
   "metadata": {},
   "outputs": [
    {
     "name": "stdout",
     "output_type": "stream",
     "text": [
      "Es el primer bloque del proyecto\n"
     ]
    }
   ],
   "source": [
    "print('Es el primer bloque del proyecto')\n",
    "pi = 3.14"
   ]
  },
  {
   "cell_type": "markdown",
   "id": "e123aba3",
   "metadata": {},
   "source": [
    "PUNTO 3 \n",
    "\n",
    "**Agregue una segunda celda, cambie el mensaje y vuelva a ejecutar**\n"
   ]
  },
  {
   "cell_type": "code",
   "execution_count": 3,
   "id": "b05dcc80",
   "metadata": {},
   "outputs": [
    {
     "name": "stdout",
     "output_type": "stream",
     "text": [
      "HELLO WORLD\n"
     ]
    },
    {
     "data": {
      "text/plain": [
       "1045.6200000000001"
      ]
     },
     "execution_count": 3,
     "metadata": {},
     "output_type": "execute_result"
    }
   ],
   "source": [
    "print('HELLO WORLD')\n",
    "333 * pi"
   ]
  },
  {
   "cell_type": "markdown",
   "id": "96b51223",
   "metadata": {},
   "source": [
    "PUNTO 4\n",
    "\n",
    "**Vuelva a la primera celda y declare una variable cualquiera, ejemplo pi = 3.14\n",
    "e intente utilizar esa variable en la celda siguiente (puede incorporar dicha\n",
    "variable dentro de una ecuación, función o simplemente imprimirla). ¿Pudo?\n",
    "¿Por qué?**\n",
    "\n",
    "Si se pudo incorporar dicha variable porque en linea de ejecucion toma el primer bloque"
   ]
  },
  {
   "cell_type": "markdown",
   "id": "efd4b0e2",
   "metadata": {},
   "source": [
    "Punto 5\n",
    "\n",
    "**Ubique el menú Kernel, en la parte superior del navegador, y seleccione la\n",
    "opción Restart. ¿Qué sucedió?**\n",
    "\n",
    "Lo que sucede es que el Restar resetea el nucleo actual del Kernel y todas las variables se pierden,se pierden todas las salidas, por ende no se puede ejecutar los programas. "
   ]
  },
  {
   "cell_type": "markdown",
   "id": "ba493bdf",
   "metadata": {},
   "source": [
    "Punto 6\n",
    "\n",
    "**Investigue la diferencia entre las opciones Restart, Restart & Clear e Interrupt**"
   ]
  },
  {
   "cell_type": "markdown",
   "id": "a32687ee",
   "metadata": {},
   "source": [
    "Punto 7\n",
    "\n",
    "**¿Qué función cumple los “In [ número ]” a la izquierda de cada celda?**\n",
    "\n",
    "Es el numero de celda, y a la vez identifica a la misma\n"
   ]
  },
  {
   "cell_type": "markdown",
   "id": "33179de3",
   "metadata": {},
   "source": [
    "Punto 8\n",
    "\n",
    "**Inserte una celda de tipo Markdown e ingrese el siguiente fragmento y vea la\n",
    "salida**\n",
    "\n",
    "# Universidad Autónoma de Entre Ríos\n",
    "## Facultad de Ciencia y Tecnología\n",
    "### Sede Concepción del Uruguay\n",
    "Licenciatura en Sistema de Información:\n",
    "- Primer año\n",
    "- Segundo año\n",
    "- **Tercer** año\n",
    "- Cuarto año\n",
    "- Quinto año"
   ]
  },
  {
   "cell_type": "markdown",
   "id": "de80da34",
   "metadata": {},
   "source": [
    "Punto 9\n",
    "\n",
    "**Inserte una imagen de internet con el comando** \n",
    "\n",
    "![Imagen](https://www.eluniverso.com/resizer/COLW3gnl--nquHqQtLQbgBCq9ao=/1191x670/smart/filters:quality(70)/cloudfront-us-east-1.images.arcpublishing.com/eluniverso/BDEDXKSYJNEHTBIR6VZFBKRT3E.jpg)\n"
   ]
  },
  {
   "cell_type": "markdown",
   "id": "9a26bb7b",
   "metadata": {},
   "source": [
    "Punto 10\n",
    "\n",
    "**¿Cómo insertar imagen alojada en mi equipo?**\n",
    "![Imagen](3D.jpg)\n"
   ]
  },
  {
   "cell_type": "markdown",
   "id": "67cc269b",
   "metadata": {},
   "source": [
    "Punto 11\n",
    "**¿Cómo puedo cambiar el orden de las celdas? ¿y combinarlas?**  \n",
    "El orden de las celdas se pueden cambiar con las flechas ubicadas en la parte superior y se pueden combinar seleccionando las seldas y presionando Shift + m."
   ]
  },
  {
   "cell_type": "code",
   "execution_count": null,
   "id": "2c07c621",
   "metadata": {},
   "outputs": [],
   "source": []
  }
 ],
 "metadata": {
  "kernelspec": {
   "display_name": "Python 3 (ipykernel)",
   "language": "python",
   "name": "python3"
  },
  "language_info": {
   "codemirror_mode": {
    "name": "ipython",
    "version": 3
   },
   "file_extension": ".py",
   "mimetype": "text/x-python",
   "name": "python",
   "nbconvert_exporter": "python",
   "pygments_lexer": "ipython3",
   "version": "3.10.4"
  }
 },
 "nbformat": 4,
 "nbformat_minor": 5
}
